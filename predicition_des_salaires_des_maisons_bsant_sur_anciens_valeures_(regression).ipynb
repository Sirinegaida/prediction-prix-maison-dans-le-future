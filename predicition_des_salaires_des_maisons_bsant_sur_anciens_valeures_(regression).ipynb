{
  "cells": [
    {
      "cell_type": "markdown",
      "metadata": {
        "id": "view-in-github",
        "colab_type": "text"
      },
      "source": [
        "<a href=\"https://colab.research.google.com/github/Sirinegaida/prediction-prix-maison-dans-le-future/blob/main/predicition_des_salaires_des_maisons_bsant_sur_anciens_valeures_(regression).ipynb\" target=\"_parent\"><img src=\"https://colab.research.google.com/assets/colab-badge.svg\" alt=\"Open In Colab\"/></a>"
      ]
    },
    {
      "cell_type": "code",
      "execution_count": null,
      "metadata": {
        "id": "fY2vXR45w9TJ"
      },
      "outputs": [],
      "source": [
        "import numpy as np\n",
        "from sklearn.datasets import make_regression\n",
        "import matplotlib.pyplot as plt"
      ]
    },
    {
      "cell_type": "markdown",
      "metadata": {
        "id": "VFL-4mhMw9TL"
      },
      "source": [
        "# 1. Dataset"
      ]
    },
    {
      "cell_type": "code",
      "execution_count": null,
      "metadata": {
        "colab": {
          "base_uri": "https://localhost:8080/",
          "height": 282
        },
        "id": "CWhHPcJ6w9TU",
        "outputId": "ada796fe-569c-4656-9efc-278d13d8099c"
      },
      "outputs": [
        {
          "output_type": "execute_result",
          "data": {
            "text/plain": [
              "<matplotlib.collections.PathCollection at 0x7fa399b80be0>"
            ]
          },
          "metadata": {},
          "execution_count": 2
        },
        {
          "output_type": "display_data",
          "data": {
            "text/plain": [
              "<Figure size 432x288 with 1 Axes>"
            ],
            "image/png": "[encoded data removed]"
          },
          "metadata": {
            "needs_background": "light"
          }
        }
      ],
      "source": [
        "x,y =make_regression(n_samples=100, n_features=1,noise=10)\n",
        "plt.scatter(x,y)"
      ]
    },
    {
      "cell_type": "code",
      "execution_count": null,
      "metadata": {
        "colab": {
          "base_uri": "https://localhost:8080/"
        },
        "id": "SNrqbfgfw9TV",
        "outputId": "196550e0-b7ea-4b42-cd01-c39ef0ea0960"
      },
      "outputs": [
        {
          "output_type": "stream",
          "name": "stdout",
          "text": [
            "(100, 1)\n"
          ]
        }
      ],
      "source": [
        "print(x.shape)"
      ]
    },
    {
      "cell_type": "code",
      "execution_count": null,
      "metadata": {
        "colab": {
          "base_uri": "https://localhost:8080/"
        },
        "id": "YNoJhnkOw9TW",
        "outputId": "ac2a0321-db8f-4dea-a612-d3ccd2b8f8e3"
      },
      "outputs": [
        {
          "output_type": "stream",
          "name": "stdout",
          "text": [
            "(100,)\n"
          ]
        }
      ],
      "source": [
        "print(y.shape)"
      ]
    },
    {
      "cell_type": "code",
      "execution_count": null,
      "metadata": {
        "colab": {
          "base_uri": "https://localhost:8080/"
        },
        "id": "XQVM9-0kw9TW",
        "outputId": "8affff27-4198-47ef-8b85-14b120a83644"
      },
      "outputs": [
        {
          "output_type": "stream",
          "name": "stdout",
          "text": [
            "(100, 1)\n"
          ]
        }
      ],
      "source": [
        "y=y.reshape(y.shape[0],1)\n",
        "print(y.shape)"
      ]
    },
    {
      "cell_type": "code",
      "execution_count": null,
      "metadata": {
        "colab": {
          "base_uri": "https://localhost:8080/"
        },
        "id": "9gqH4kHNw9TX",
        "outputId": "6e19d849-6b26-4198-d8f8-a24c5dcf8ed4"
      },
      "outputs": [
        {
          "output_type": "execute_result",
          "data": {
            "text/plain": [
              "array([[-0.7024436 ],\n",
              "       [ 0.47488146],\n",
              "       [ 0.53479652],\n",
              "       [-0.33967096],\n",
              "       [ 0.56714502],\n",
              "       [ 1.11376174],\n",
              "       [ 0.07323229],\n",
              "       [ 0.24341531],\n",
              "       [-0.63467402],\n",
              "       [-1.83887161],\n",
              "       [ 1.04045304],\n",
              "       [ 0.58862458],\n",
              "       [-1.67144183],\n",
              "       [-0.30866526],\n",
              "       [ 1.2778843 ],\n",
              "       [ 0.03863151],\n",
              "       [-0.50394524],\n",
              "       [ 1.30631707],\n",
              "       [ 1.14675266],\n",
              "       [ 1.48318748],\n",
              "       [-0.67085022],\n",
              "       [-0.77730984],\n",
              "       [ 0.25872375],\n",
              "       [ 1.58923381],\n",
              "       [ 1.40886616],\n",
              "       [-1.50232112],\n",
              "       [ 0.56155025],\n",
              "       [-0.75970524],\n",
              "       [ 1.57137494],\n",
              "       [ 0.6251211 ],\n",
              "       [-0.53874102],\n",
              "       [-0.74750766],\n",
              "       [ 0.31397694],\n",
              "       [ 0.82394339],\n",
              "       [-0.27705646],\n",
              "       [ 0.63036933],\n",
              "       [ 0.2417725 ],\n",
              "       [ 0.46288966],\n",
              "       [-0.37163474],\n",
              "       [-1.19740789],\n",
              "       [ 0.15401726],\n",
              "       [ 0.28355257],\n",
              "       [-0.64947294],\n",
              "       [-0.3661562 ],\n",
              "       [ 1.09048968],\n",
              "       [ 2.37567675],\n",
              "       [ 0.05300602],\n",
              "       [-0.15643292],\n",
              "       [-0.78940245],\n",
              "       [-0.789062  ],\n",
              "       [ 1.34903032],\n",
              "       [ 0.44816246],\n",
              "       [ 0.03062713],\n",
              "       [ 2.02839115],\n",
              "       [-0.86034437],\n",
              "       [-0.80393617],\n",
              "       [-1.68364883],\n",
              "       [ 0.35201392],\n",
              "       [ 0.37873337],\n",
              "       [ 0.47640647],\n",
              "       [-1.11799775],\n",
              "       [ 1.03986779],\n",
              "       [ 0.01058335],\n",
              "       [ 0.07696044],\n",
              "       [ 0.84931239],\n",
              "       [ 1.40507526],\n",
              "       [-0.13081329],\n",
              "       [-1.93496954],\n",
              "       [ 0.12095297],\n",
              "       [-0.36394206],\n",
              "       [-0.7573181 ],\n",
              "       [-0.7762691 ],\n",
              "       [-1.32275384],\n",
              "       [-0.30072041],\n",
              "       [-0.25145494],\n",
              "       [-0.96791893],\n",
              "       [ 0.55116058],\n",
              "       [-0.35558751],\n",
              "       [ 0.86467632],\n",
              "       [ 0.5119598 ],\n",
              "       [-0.21488498],\n",
              "       [-2.93299401],\n",
              "       [-0.54609774],\n",
              "       [ 0.04781185],\n",
              "       [ 2.58564379],\n",
              "       [-2.04478539],\n",
              "       [ 0.25295666],\n",
              "       [-0.36739137],\n",
              "       [-1.51812205],\n",
              "       [ 0.04210473],\n",
              "       [-1.33454822],\n",
              "       [-0.68465559],\n",
              "       [ 0.50332304],\n",
              "       [-1.18371226],\n",
              "       [-0.65961793],\n",
              "       [-0.23332466],\n",
              "       [ 0.34591977],\n",
              "       [-0.9576242 ],\n",
              "       [-0.42335325],\n",
              "       [-0.77644358]])"
            ]
          },
          "metadata": {},
          "execution_count": 6
        }
      ],
      "source": [
        "x\n"
      ]
    },
    {
      "cell_type": "code",
      "execution_count": null,
      "metadata": {
        "id": "W8ZuFGY1w9TX"
      },
      "outputs": [],
      "source": [
        "X=np.hstack((x,np.ones(x.shape)))\n",
        "X\n"
      ]
    },
    {
      "cell_type": "code",
      "execution_count": null,
      "metadata": {
        "id": "4FCh7jezw9TX"
      },
      "outputs": [],
      "source": [
        "theta=np.random.rand(2,1)"
      ]
    },
    {
      "cell_type": "code",
      "execution_count": null,
      "metadata": {
        "colab": {
          "base_uri": "https://localhost:8080/"
        },
        "id": "CuOgmuPRw9TX",
        "outputId": "717a649b-fb98-4e9a-f89c-89147d9bf99d"
      },
      "outputs": [
        {
          "output_type": "execute_result",
          "data": {
            "text/plain": [
              "(2, 1)"
            ]
          },
          "metadata": {},
          "execution_count": 9
        }
      ],
      "source": [
        "theta.shape"
      ]
    },
    {
      "cell_type": "code",
      "execution_count": null,
      "metadata": {
        "colab": {
          "base_uri": "https://localhost:8080/"
        },
        "id": "tL1uXPNiw9TY",
        "outputId": "764dbe44-66c8-4588-bddd-6239c593641f"
      },
      "outputs": [
        {
          "output_type": "execute_result",
          "data": {
            "text/plain": [
              "array([[0.49647937],\n",
              "       [0.06527166]])"
            ]
          },
          "metadata": {},
          "execution_count": 10
        }
      ],
      "source": [
        "theta"
      ]
    },
    {
      "cell_type": "code",
      "execution_count": null,
      "metadata": {
        "id": "l8T4P3thw9TY"
      },
      "outputs": [],
      "source": [
        "def model (X,theta):\n",
        "    return X.dot(theta)"
      ]
    },
    {
      "cell_type": "code",
      "execution_count": null,
      "metadata": {
        "colab": {
          "base_uri": "https://localhost:8080/",
          "height": 282
        },
        "id": "FNn0B_o1w9TY",
        "outputId": "82a5f1e7-c5bc-4860-cb6f-5e7d2ed6b007"
      },
      "outputs": [
        {
          "output_type": "execute_result",
          "data": {
            "text/plain": [
              "[<matplotlib.lines.Line2D at 0x7f3874ae1cd0>]"
            ]
          },
          "metadata": {},
          "execution_count": 12
        },
        {
          "output_type": "display_data",
          "data": {
            "text/plain": [
              "<Figure size 432x288 with 1 Axes>"
            ],
            "image/png": "[encoded data removed]"
          },
          "metadata": {
            "needs_background": "light"
          }
        }
      ],
      "source": [
        "plt.scatter(x,y)\n",
        "plt.plot(x,model(X,theta),c='r')"
      ]
    },
    {
      "cell_type": "markdown",
      "metadata": {
        "id": "ktsfOHmnw9TZ"
      },
      "source": [
        "# fonction coût\n",
        "\n",
        "#find the optiman number when the loss fonction becomes minimal"
      ]
    },
    {
      "cell_type": "code",
      "execution_count": null,
      "metadata": {
        "id": "I_ce3d8Aw9TZ"
      },
      "outputs": [],
      "source": [
        "def cost_function(X,y, theta):\n",
        "    m=len(y)\n",
        "    return 1/(2*m)*np.sum((model(X,theta)-y)**2)"
      ]
    },
    {
      "cell_type": "code",
      "execution_count": null,
      "metadata": {
        "id": "dT-P7Z1Aw9TZ",
        "outputId": "46018667-43a5-4643-bfe3-49943e74b279"
      },
      "outputs": [
        {
          "data": {
            "text/plain": [
              "944.8229238626919"
            ]
          },
          "execution_count": 42,
          "metadata": {},
          "output_type": "execute_result"
        }
      ],
      "source": [
        "cost_function(X,y, theta)"
      ]
    },
    {
      "cell_type": "markdown",
      "metadata": {
        "id": "9F1BDCskw9TZ"
      },
      "source": [
        "# Gradient et Descente de gradient"
      ]
    },
    {
      "cell_type": "markdown",
      "source": [
        "#gradient descent model\n",
        "\n",
        "#determine la converxité par la valuer minimale"
      ],
      "metadata": {
        "id": "TzueDED9z07P"
      }
    },
    {
      "cell_type": "code",
      "execution_count": null,
      "metadata": {
        "id": "fC6wg0s7w9Ta"
      },
      "outputs": [],
      "source": [
        "def grad(X,y, theta):\n",
        "    m=len(y)\n",
        "    return 1/m*X.T.dot(model(X,theta)-y)"
      ]
    },
    {
      "cell_type": "code",
      "execution_count": null,
      "metadata": {
        "id": "rBeV4LeAw9Ta"
      },
      "outputs": [],
      "source": [
        "def gradient_descent(X,y,theta, learning_rate,n_iterations):\n",
        "    cost_history=np.zeros(n_iterations)\n",
        "    for i in range(0,n_iterations):\n",
        "        theta= theta-learning_rate*grad(X,y,theta)\n",
        "        cost_history[i]=cost_function(X,y, theta)\n",
        "    return theta, cost_history"
      ]
    },
    {
      "cell_type": "markdown",
      "metadata": {
        "id": "AFmq7NfEw9Ta"
      },
      "source": [
        "# Apprentissage"
      ]
    },
    {
      "cell_type": "code",
      "execution_count": null,
      "metadata": {
        "id": "sOfYhd72w9Ta"
      },
      "outputs": [],
      "source": [
        "theta_final,cost_history =gradient_descent(X,y,theta, learning_rate=0.0001,n_iterations=100000)"
      ]
    },
    {
      "cell_type": "code",
      "execution_count": null,
      "metadata": {
        "colab": {
          "base_uri": "https://localhost:8080/"
        },
        "id": "VLw99yZEw9Ta",
        "outputId": "6416bbc1-50d4-45e9-f9b8-b444908b933f"
      },
      "outputs": [
        {
          "output_type": "execute_result",
          "data": {
            "text/plain": [
              "array([[ 1.51855211],\n",
              "       [-0.29665427]])"
            ]
          },
          "metadata": {},
          "execution_count": 20
        }
      ],
      "source": [
        "theta_final"
      ]
    },
    {
      "cell_type": "code",
      "execution_count": null,
      "metadata": {
        "colab": {
          "base_uri": "https://localhost:8080/",
          "height": 282
        },
        "id": "mgPAStE8w9Tb",
        "outputId": "3ac6ce78-ec16-4ed5-8c51-24ef8790dc38"
      },
      "outputs": [
        {
          "output_type": "execute_result",
          "data": {
            "text/plain": [
              "[<matplotlib.lines.Line2D at 0x7f3873f4d0d0>]"
            ]
          },
          "metadata": {},
          "execution_count": 21
        },
        {
          "output_type": "display_data",
          "data": {
            "text/plain": [
              "<Figure size 432x288 with 1 Axes>"
            ],
            "image/png": "[encoded data removed]"
          },
          "metadata": {
            "needs_background": "light"
          }
        }
      ],
      "source": [
        "predictions=model(X,theta_final)\n",
        "plt.scatter(x,y)\n",
        "plt.plot(x, predictions,c='r')"
      ]
    },
    {
      "cell_type": "code",
      "execution_count": null,
      "metadata": {
        "colab": {
          "base_uri": "https://localhost:8080/",
          "height": 282
        },
        "id": "mSc1TflVw9Tb",
        "outputId": "53128b9b-1161-4a81-9d7e-880621461d4f"
      },
      "outputs": [
        {
          "output_type": "execute_result",
          "data": {
            "text/plain": [
              "[<matplotlib.lines.Line2D at 0x7f3873f21760>]"
            ]
          },
          "metadata": {},
          "execution_count": 22
        },
        {
          "output_type": "display_data",
          "data": {
            "text/plain": [
              "<Figure size 432x288 with 1 Axes>"
            ],
            "image/png": "[encoded data removed]"
          },
          "metadata": {
            "needs_background": "light"
          }
        }
      ],
      "source": [
        "plt.plot(range(100000),cost_history )"
      ]
    },
    {
      "cell_type": "code",
      "execution_count": null,
      "metadata": {
        "id": "KEjDRmUDw9Tb"
      },
      "outputs": [],
      "source": [
        "def coef_determination(y, pred):\n",
        "    u=((y-pred)**2).sum()\n",
        "    v=((y-y.mean())**2).sum()\n",
        "    return 1-u/v"
      ]
    },
    {
      "cell_type": "code",
      "execution_count": null,
      "metadata": {
        "colab": {
          "base_uri": "https://localhost:8080/"
        },
        "id": "v-HBeACpw9Tb",
        "outputId": "631d73ab-f1f4-4688-f3f1-f58bc51d7d37"
      },
      "outputs": [
        {
          "output_type": "execute_result",
          "data": {
            "text/plain": [
              "0.02192510072576237"
            ]
          },
          "metadata": {},
          "execution_count": 24
        }
      ],
      "source": [
        "coef_determination(y, predictions)"
      ]
    },
    {
      "cell_type": "code",
      "execution_count": null,
      "metadata": {
        "id": "A21c5Fqfw9Tb"
      },
      "outputs": [],
      "source": []
    }
  ],
  "metadata": {
    "kernelspec": {
      "display_name": "Python 3",
      "language": "python",
      "name": "python3"
    },
    "language_info": {
      "codemirror_mode": {
        "name": "ipython",
        "version": 3
      },
      "file_extension": ".py",
      "mimetype": "text/x-python",
      "name": "python",
      "nbconvert_exporter": "python",
      "pygments_lexer": "ipython3",
      "version": "3.6.8"
    },
    "colab": {
      "provenance": [],
      "include_colab_link": true
    }
  },
  "nbformat": 4,
  "nbformat_minor": 0
}